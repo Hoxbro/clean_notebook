{
 "cells": [
  {
   "cell_type": "code",
   "execution_count": null,
   "id": "f3bf207c-3e4e-4c00-9725-9d5fdcc36269",
   "metadata": {},
   "outputs": [],
   "source": [
    "data = \"● - Adelie, ▲ - Gentoo, ■ - Chinstrap\"\n",
    "print(data)"
   ]
  },
  {
   "cell_type": "code",
   "execution_count": null,
   "id": "51632c20-f2e4-4797-ab58-0eed74716957",
   "metadata": {},
   "outputs": [],
   "source": []
  }
 ],
 "metadata": {
  "language_info": {
   "name": "python",
   "pygments_lexer": "ipython3"
  }
 },
 "nbformat": 4,
 "nbformat_minor": 5
}
