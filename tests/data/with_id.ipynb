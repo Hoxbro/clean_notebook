{
 "cells": [
  {
   "cell_type": "code",
   "execution_count": 2,
   "id": "3d183bd1-509f-4758-9f2d-db94b23c58f9",
   "metadata": {
    "tags": []
   },
   "outputs": [],
   "source": [
    "a = 2"
   ]
  },
  {
   "cell_type": "markdown",
   "id": "66cdc779-4931-4306-881a-4bf30cb0fdbb",
   "metadata": {},
   "source": [
    "Markdown"
   ]
  },
  {
   "cell_type": "raw",
   "id": "5cbb8154-79ee-4290-953c-89a89b4276b7",
   "metadata": {},
   "source": [
    "Raw"
   ]
  }
 ],
 "metadata": {
  "kernelspec": {
   "display_name": "Python 3 (ipykernel)",
   "language": "python",
   "name": "python3"
  },
  "language_info": {
   "codemirror_mode": {
    "name": "ipython",
    "version": 3
   },
   "file_extension": ".py",
   "mimetype": "text/x-python",
   "name": "python",
   "nbconvert_exporter": "python",
   "pygments_lexer": "ipython3",
   "version": "3.11.6"
  }
 },
 "nbformat": 4,
 "nbformat_minor": 5
}
